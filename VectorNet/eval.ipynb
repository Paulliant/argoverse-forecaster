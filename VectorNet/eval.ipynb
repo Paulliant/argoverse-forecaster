{
 "cells": [
  {
   "cell_type": "code",
   "execution_count": 62,
   "metadata": {},
   "outputs": [],
   "source": [
    "import torch\n",
    "import torch.nn as nn\n",
    "import numpy as np\n",
    "import math\n",
    "from torch.utils.data import DataLoader\n",
    "from ArgoverseDataset import ArgoverseForecastDataset\n",
    "from vectornet import VectorNet\n",
    "from tqdm import tqdm\n",
    "import warnings\n",
    "warnings.filterwarnings('ignore')\n",
    "import logging\n",
    "import os\n",
    "\n",
    "# ADE 和 FDE 计算函数\n",
    "def get_ade(forecasted_trajectory: np.ndarray, gt_trajectory: np.ndarray) -> float:\n",
    "    pred_len = forecasted_trajectory.shape[0]\n",
    "    ade = float(\n",
    "        sum(\n",
    "            math.sqrt(\n",
    "                (forecasted_trajectory[i, 0] - gt_trajectory[i, 0]) ** 2\n",
    "                + (forecasted_trajectory[i, 1] - gt_trajectory[i, 1]) ** 2\n",
    "            )\n",
    "            for i in range(pred_len)\n",
    "        )\n",
    "        / pred_len\n",
    "    )\n",
    "    return ade\n",
    "\n",
    "def get_fde(forecasted_trajectory: np.ndarray, gt_trajectory: np.ndarray) -> float:\n",
    "    fde = float(\n",
    "        math.sqrt(\n",
    "            (forecasted_trajectory[-1, 0] - gt_trajectory[-1, 0]) ** 2\n",
    "            + (forecasted_trajectory[-1, 1] - gt_trajectory[-1, 1]) ** 2\n",
    "        )\n",
    "    )\n",
    "    return fde\n"
   ]
  },
  {
   "cell_type": "code",
   "execution_count": 63,
   "metadata": {},
   "outputs": [],
   "source": [
    "def init_logger(cfg):\n",
    "    logger = logging.getLogger(__name__)\n",
    "    logger.setLevel(level=logging.DEBUG)\n",
    "    log_file = cfg['log_file']\n",
    "    handler = logging.FileHandler(log_file, mode='w')\n",
    "    handler.setLevel(logging.DEBUG)\n",
    "\n",
    "    console = logging.StreamHandler()\n",
    "    console.setLevel(logging.INFO)\n",
    "    logger.addHandler(handler)\n",
    "    logger.addHandler(console)\n",
    "    return logger\n"
   ]
  },
  {
   "cell_type": "code",
   "execution_count": 64,
   "metadata": {},
   "outputs": [],
   "source": [
    "def load_model(cfg, model_path):\n",
    "    device = cfg['device']\n",
    "    model = VectorNet(traj_features=15, map_features=8, cfg=cfg)\n",
    "    # Load state_dict from checkpoint\n",
    "    state_dict = torch.load(model_path)\n",
    "    \n",
    "    # Handle the case where model was wrapped in DataParallel during training\n",
    "    from collections import OrderedDict\n",
    "    new_state_dict = OrderedDict()\n",
    "    for k, v in state_dict.items():\n",
    "        if k.startswith(\"module.\"):\n",
    "            new_state_dict[k[7:]] = v  # remove \"module.\" prefix\n",
    "        else:\n",
    "            new_state_dict[k] = v\n",
    "    \n",
    "    model.load_state_dict(new_state_dict)\n",
    "    model.to(device)\n",
    "    model.eval()\n",
    "    return model\n",
    "\n",
    "def predict(model, data_loader, cfg):\n",
    "    device = cfg['device']\n",
    "    predictions = []\n",
    "    with torch.no_grad():\n",
    "        for traj_batch, map_batch in data_loader:\n",
    "            traj_batch = traj_batch.to(device=device, dtype=torch.float)\n",
    "            result, _ = model(traj_batch, map_batch)\n",
    "            predictions.append(result)\n",
    "    return predictions"
   ]
  },
  {
   "cell_type": "code",
   "execution_count": 65,
   "metadata": {},
   "outputs": [],
   "source": [
    "def evaluate_model(model, cfg):\n",
    "    test_dataset = ArgoverseForecastDataset(cfg)\n",
    "    test_loader = DataLoader(dataset=test_dataset, batch_size=cfg['batch_size'], shuffle=False, num_workers=0)\n",
    "    \n",
    "    predictions = predict(model, test_loader, cfg)\n",
    "    \n",
    "    total_ade = 0\n",
    "    total_fde = 0\n",
    "    count = 0\n",
    "    \n",
    "    for i, (traj_batch, _) in tqdm(enumerate(test_loader), total=len(test_loader), desc=\"Processing Trajectories\"):\n",
    "        gt_trajectory = traj_batch[:, cfg['last_observe']:, 2:4][0].cpu().numpy()\n",
    "        pred_trajectory = predictions[i]['0'].cpu().numpy()\n",
    "        total_ade += get_ade(pred_trajectory, gt_trajectory)\n",
    "        total_fde += get_fde(pred_trajectory, gt_trajectory)\n",
    "        count += 1\n",
    "    \n",
    "    avg_ade = total_ade / count\n",
    "    avg_fde = total_fde / count\n",
    "    \n",
    "    print(f\"Average ADE: {avg_ade}\")\n",
    "    print(f\"Average FDE: {avg_fde}\")"
   ]
  },
  {
   "cell_type": "code",
   "execution_count": 66,
   "metadata": {},
   "outputs": [
    {
     "name": "stdout",
     "output_type": "stream",
     "text": [
      "RUN_PARALLEL = True\n",
      "\n",
      "PIT map range :\n",
      "[4890.21696825 2722.98842652]\n",
      "[ 650.30176714 -203.72591182]\n",
      "MIA map range :\n",
      "[ 971.37104584 4210.89633146]\n",
      "[-494.68405609  552.63750775]\n"
     ]
    },
    {
     "name": "stderr",
     "output_type": "stream",
     "text": [
      "Generating Vector Map: : 17526it [00:02, 8407.32it/s]                         \n"
     ]
    },
    {
     "name": "stdout",
     "output_type": "stream",
     "text": [
      "Generate Vector Map Successfully!\n"
     ]
    },
    {
     "name": "stderr",
     "output_type": "stream",
     "text": [
      "Processing Trajectories: 100%|██████████| 3900/3900 [01:59<00:00, 32.55it/s]"
     ]
    },
    {
     "name": "stdout",
     "output_type": "stream",
     "text": [
      "Average ADE: 3.286978220690677\n",
      "Average FDE: 9.481947371485507\n"
     ]
    },
    {
     "name": "stderr",
     "output_type": "stream",
     "text": [
      "\n"
     ]
    }
   ],
   "source": [
    "USE_GPU = True\n",
    "RUN_PARALLEL = True\n",
    "device_ids = [0, 1]\n",
    "if USE_GPU and torch.cuda.is_available():\n",
    "    device = torch.device('cuda')\n",
    "    if torch.cuda.device_count() <= 1:\n",
    "        RUN_PARALLEL = False\n",
    "        pass\n",
    "else:\n",
    "    device = torch.device('cpu')\n",
    "    RUN_PARALLEL = False\n",
    "\n",
    "learning_rate = 1e-3\n",
    "learning_rate_decay = 0.3\n",
    "cfg = dict(device=device, learning_rate=learning_rate, learning_rate_decay=learning_rate_decay,\n",
    "            last_observe=20, epochs=3, print_every=100, save_every=1, batch_size=1, predict_step=29,\n",
    "            data_locate=\"../data\", save_path=\"./model_ckpt/\",\n",
    "            log_file=\"./log_eval.txt\", tensorboard_path=\"runs/train_visualization\")\n",
    "\n",
    "print('RUN_PARALLEL = ' + str(RUN_PARALLEL))\n",
    "print()\n",
    "\n",
    "logger = init_logger(cfg)\n",
    "model_path = cfg['save_path'] + \"model_final.pth\"\n",
    "model = load_model(cfg, model_path)\n",
    "\n",
    "evaluate_model(model, cfg)\n"
   ]
  }
 ],
 "metadata": {
  "kernelspec": {
   "display_name": "argoverse",
   "language": "python",
   "name": "python3"
  },
  "language_info": {
   "codemirror_mode": {
    "name": "ipython",
    "version": 3
   },
   "file_extension": ".py",
   "mimetype": "text/x-python",
   "name": "python",
   "nbconvert_exporter": "python",
   "pygments_lexer": "ipython3",
   "version": "3.7.-1"
  }
 },
 "nbformat": 4,
 "nbformat_minor": 2
}
